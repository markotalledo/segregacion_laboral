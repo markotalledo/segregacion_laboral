{
 "cells": [
  {
   "cell_type": "markdown",
   "metadata": {},
   "source": [
    "# <h1><center>SEGREGACIÓN LABORAL POR GENERO</center></h1>\n",
    "\n",
    "# <h1><center> IES </center></h1>\n"
   ]
  },
  {
   "cell_type": "markdown",
   "metadata": {},
   "source": [
    "# <h3 align=\"center\"> Nuñez Rodas Andrea Nicole </h3>\n",
    "\n",
    "# <h3 align=\"center\"> Calderon De Amat Nelly </h3>\n"
   ]
  },
  {
   "cell_type": "markdown",
   "metadata": {},
   "source": [
    "# **CONTENTS:**\n"
   ]
  },
  {
   "cell_type": "markdown",
   "metadata": {},
   "source": [
    "[ **1 ) Importing the Modules and Loading the Dataset**](#content1)\n"
   ]
  },
  {
   "cell_type": "markdown",
   "metadata": {},
   "source": [
    "<a id=\"content1\"></a>\n",
    "\n",
    "# **1 ) Importing the Modules and Loading the Dataset**\n"
   ]
  },
  {
   "cell_type": "code",
   "execution_count": 1,
   "metadata": {},
   "outputs": [],
   "source": [
    "# Ignore  the warnings\n",
    "# for classification\n",
    "from sklearn.linear_model import LinearRegression, Ridge, Lasso, RidgeCV, ElasticNet\n",
    "from sklearn.metrics import accuracy_score, precision_score, recall_score, f1_score\n",
    "from sklearn.ensemble import RandomForestRegressor, BaggingRegressor, GradientBoostingRegressor, AdaBoostRegressor\n",
    "from sklearn.metrics import mean_squared_log_error, mean_squared_error, r2_score, mean_absolute_error  # for regression\n",
    "from sklearn.model_selection import train_test_split, cross_validate\n",
    "from sklearn.ensemble import RandomForestClassifier, GradientBoostingClassifier\n",
    "from sklearn.svm import LinearSVC, SVC\n",
    "from xgboost import plot_importance\n",
    "import xgboost as xgb\n",
    "from scipy.stats import norm, skew   # specifically for staistics\n",
    "from scipy import stats\n",
    "from sklearn.preprocessing import LabelEncoder\n",
    "from sklearn.model_selection import GridSearchCV\n",
    "from sklearn.model_selection import KFold\n",
    "from sklearn.neighbors import KNeighborsRegressor\n",
    "from sklearn.svm import SVR\n",
    "from sklearn.neural_network import MLPRegressor\n",
    "from sklearn.naive_bayes import GaussianNB\n",
    "from sklearn.tree import DecisionTreeClassifier\n",
    "from sklearn.neighbors import KNeighborsClassifier\n",
    "from sklearn.linear_model import LogisticRegression\n",
    "import statsmodels.api as sm\n",
    "import missingno as msno\n",
    "import seaborn as sns\n",
    "from matplotlib.legend_handler import HandlerBase\n",
    "from matplotlib import style\n",
    "import matplotlib.pyplot as plt\n",
    "import pandas as pd\n",
    "import numpy as np\n",
    "import warnings\n",
    "warnings.filterwarnings('always')\n",
    "warnings.filterwarnings('ignore')\n",
    "\n",
    "# data visualisation and manipulation\n",
    "\n",
    "# configure\n",
    "# sets matplotlib to inline and displays graphs below the corressponding cell.\n",
    "%matplotlib inline\n",
    "style.use('fivethirtyeight')\n",
    "sns.set(style='whitegrid', color_codes=True)\n",
    "\n",
    "# import the necessary modelling algos.\n",
    "\n",
    "# classifiaction.\n",
    "\n",
    "# regression\n",
    "\n",
    "# model selection\n",
    "\n",
    "# evaluation metrics\n"
   ]
  },
  {
   "cell_type": "code",
   "execution_count": 5,
   "metadata": {},
   "outputs": [
    {
     "name": "stdout",
     "output_type": "stream",
     "text": [
      "Collecting pyreadstat\n",
      "  Downloading pyreadstat-1.1.3-cp38-cp38-win_amd64.whl (1.3 MB)\n",
      "Requirement already satisfied: pandas>0.24.0 in c:\\anaconda3\\lib\\site-packages (from pyreadstat) (1.3.1)\n",
      "Requirement already satisfied: python-dateutil>=2.7.3 in c:\\anaconda3\\lib\\site-packages (from pandas>0.24.0->pyreadstat) (2.8.2)\n",
      "Requirement already satisfied: pytz>=2017.3 in c:\\anaconda3\\lib\\site-packages (from pandas>0.24.0->pyreadstat) (2021.1)\n",
      "Requirement already satisfied: numpy>=1.17.3 in c:\\users\\marko talledo\\appdata\\roaming\\python\\python38\\site-packages (from pandas>0.24.0->pyreadstat) (1.19.5)\n",
      "Requirement already satisfied: six>=1.5 in c:\\anaconda3\\lib\\site-packages (from python-dateutil>=2.7.3->pandas>0.24.0->pyreadstat) (1.12.0)\n",
      "Installing collected packages: pyreadstat\n",
      "Successfully installed pyreadstat-1.1.3\n"
     ]
    }
   ],
   "source": [
    "!pip install pyreadstat\n"
   ]
  },
  {
   "cell_type": "code",
   "execution_count": 6,
   "metadata": {},
   "outputs": [],
   "source": [
    "import pyreadstat\n"
   ]
  },
  {
   "cell_type": "code",
   "execution_count": 7,
   "metadata": {},
   "outputs": [],
   "source": [
    "data = pd.read_spss('data.sav')\n"
   ]
  },
  {
   "cell_type": "code",
   "execution_count": 8,
   "metadata": {},
   "outputs": [
    {
     "data": {
      "text/plain": [
       "Index(['cap1_IDX_PERSONA', 'cap1_IDX_MARCO', 'ccdd', 'cap1_DPTO_NOMBRE',\n",
       "       'ccpp', 'cap1_PROV_NOMBRE', 'ccdi', 'cap1_DIST_NOMBRE', 'coduni',\n",
       "       'cap1_UNIV_NOMBRE_1',\n",
       "       ...\n",
       "       'PERSPECTIVA', 'LOTE', 'ASIG', 'SICODA_CCDI', 'ccpais', 'nom_pais',\n",
       "       'descrip_AREACONOC', 'FLAG_COMPLETO', 'tipo_univ', 'filter_$'],\n",
       "      dtype='object', length=469)"
      ]
     },
     "execution_count": 8,
     "metadata": {},
     "output_type": "execute_result"
    }
   ],
   "source": [
    "data.columns\n"
   ]
  },
  {
   "cell_type": "code",
   "execution_count": 9,
   "metadata": {},
   "outputs": [
    {
     "data": {
      "text/plain": [
       "(19712, 469)"
      ]
     },
     "execution_count": 9,
     "metadata": {},
     "output_type": "execute_result"
    }
   ],
   "source": [
    "data.shape\n"
   ]
  },
  {
   "cell_type": "code",
   "execution_count": 10,
   "metadata": {},
   "outputs": [],
   "source": [
    "df = data.copy()\n"
   ]
  },
  {
   "cell_type": "code",
   "execution_count": 11,
   "metadata": {},
   "outputs": [
    {
     "data": {
      "text/plain": [
       "0     Asociado\n",
       "1     Asociado\n",
       "2    Principal\n",
       "3     Auxiliar\n",
       "4    Principal\n",
       "Name: CATEG_DOCORD, dtype: category\n",
       "Categories (4, object): ['Asociado', 'Auxiliar', 'NINGUNO', 'Principal']"
      ]
     },
     "execution_count": 11,
     "metadata": {},
     "output_type": "execute_result"
    }
   ],
   "source": [
    "df['CATEG_DOCORD'].head()\n"
   ]
  },
  {
   "cell_type": "code",
   "execution_count": 12,
   "metadata": {},
   "outputs": [],
   "source": [
    "df = df.loc[(df['CATEG_DOCORD'] == 'Principal') |\n",
    "            (df['CATEG_DOCORD'] == 'Auxiliar')]\n"
   ]
  },
  {
   "cell_type": "code",
   "execution_count": 13,
   "metadata": {},
   "outputs": [
    {
     "data": {
      "text/plain": [
       "2    LIMA\n",
       "3    LIMA\n",
       "4    LIMA\n",
       "6    LIMA\n",
       "9    LIMA\n",
       "Name: cap1_DPTO_NOMBRE, dtype: object"
      ]
     },
     "execution_count": 13,
     "metadata": {},
     "output_type": "execute_result"
    }
   ],
   "source": [
    "df['cap1_DPTO_NOMBRE'].head()\n"
   ]
  },
  {
   "cell_type": "code",
   "execution_count": 15,
   "metadata": {},
   "outputs": [],
   "source": [
    "df['Es_Lima'] = np.where((df['cap1_DPTO_NOMBRE'] == 'LIMA') | (\n",
    "    df['cap1_DPTO_NOMBRE'] == 'PROV. CONST. DEL CALLAO'), 1, 0)\n"
   ]
  },
  {
   "cell_type": "code",
   "execution_count": 16,
   "metadata": {},
   "outputs": [
    {
     "data": {
      "text/plain": [
       "2    1\n",
       "3    1\n",
       "4    1\n",
       "6    1\n",
       "9    1\n",
       "Name: Es_Lima, dtype: int32"
      ]
     },
     "execution_count": 16,
     "metadata": {},
     "output_type": "execute_result"
    }
   ],
   "source": [
    "df['Es_Lima'].head()\n"
   ]
  },
  {
   "cell_type": "code",
   "execution_count": 19,
   "metadata": {},
   "outputs": [],
   "source": [
    "df['sexo'] = np.where((df['SEXO'] == 'Mujer'), 1, 0)\n"
   ]
  },
  {
   "cell_type": "code",
   "execution_count": 25,
   "metadata": {},
   "outputs": [],
   "source": [
    "df['gap_titulacion'] = pd.to_numeric(\n",
    "    df['preg_anioGrado_1']) - pd.to_numeric(df['preg_aniocon_1'])\n"
   ]
  },
  {
   "cell_type": "code",
   "execution_count": 27,
   "metadata": {},
   "outputs": [],
   "source": [
    "df['gap_postgrado'] = pd.to_numeric(\n",
    "    df['post_anioGrado_1']) - pd.to_numeric(df['preg_anioGrado_1'])\n"
   ]
  },
  {
   "cell_type": "code",
   "execution_count": 66,
   "metadata": {},
   "outputs": [],
   "source": [
    "df['post_1'] = np.where((df['post_anioGrado_1'] == ''), 0, 1)\n",
    "df['post_2'] = np.where((df['post_anioGrado_2'] == ''), 0, 1)\n",
    "df['post_3'] = np.where((df['post_anioGrado_3'] == ''), 0, 1)\n",
    "df['nro_post'] = df['post_1'] + df['post_2'] + df['post_3']"
   ]
  },
  {
   "cell_type": "code",
   "execution_count": 44,
   "metadata": {},
   "outputs": [
    {
     "data": {
      "text/plain": [
       "2    1\n",
       "3    1\n",
       "4    3\n",
       "6    3\n",
       "9    2\n",
       "Name: nro_post, dtype: int32"
      ]
     },
     "execution_count": 44,
     "metadata": {},
     "output_type": "execute_result"
    }
   ],
   "source": [
    "df['nro_post'].head()"
   ]
  },
  {
   "cell_type": "code",
   "execution_count": 46,
   "metadata": {},
   "outputs": [],
   "source": [
    "df['capac_doc'] = np.where((df['capac_doc'] == 'Si'), 1, 0)\n"
   ]
  },
  {
   "cell_type": "code",
   "execution_count": 48,
   "metadata": {},
   "outputs": [],
   "source": [
    "df['evento'] = np.where((df['evento'] == 'Si'), 1, 0)"
   ]
  },
  {
   "cell_type": "code",
   "execution_count": 50,
   "metadata": {},
   "outputs": [],
   "source": [
    "df['cono_compu'] = np.where((df['cono_compu'] == 'Si'), 1, 0)"
   ]
  },
  {
   "cell_type": "code",
   "execution_count": 58,
   "metadata": {},
   "outputs": [],
   "source": [
    "df['CATEG_NOUNI'].replace({'':'Sin Ocupacion NOUNI'}, inplace=True)\n"
   ]
  },
  {
   "cell_type": "code",
   "execution_count": 59,
   "metadata": {},
   "outputs": [
    {
     "data": {
      "text/plain": [
       "Sin Ocupacion NOUNI                         8353\n",
       "Empleado                                    1911\n",
       "Trabajador independiente o por su cuenta    1548\n",
       "Empleador o patrono                          189\n",
       "Otro                                           4\n",
       "Name: CATEG_NOUNI, dtype: int64"
      ]
     },
     "execution_count": 59,
     "metadata": {},
     "output_type": "execute_result"
    }
   ],
   "source": [
    "df['CATEG_NOUNI'].value_counts()"
   ]
  },
  {
   "cell_type": "code",
   "execution_count": 57,
   "metadata": {},
   "outputs": [
    {
     "data": {
      "text/plain": [
       "No    8404\n",
       "Si    3601\n",
       "Name: ACTI_NOUNI, dtype: int64"
      ]
     },
     "execution_count": 57,
     "metadata": {},
     "output_type": "execute_result"
    }
   ],
   "source": [
    "df['ACTI_NOUNI'].value_counts()"
   ]
  },
  {
   "cell_type": "code",
   "execution_count": 64,
   "metadata": {},
   "outputs": [],
   "source": [
    "df['inv_1'] = np.where((df['INV_ANIOF_1'] == ''), 0, 1)\n",
    "df['inv_2'] = np.where((df['INV_ANIOF_2'] == ''), 0, 1)\n",
    "df['inv_3'] = np.where((df['INV_ANIOF_3'] == ''), 0, 1)\n",
    "df['nro_invs'] = df['inv_1'] + df['inv_2'] + df['inv_3']"
   ]
  },
  {
   "cell_type": "code",
   "execution_count": 65,
   "metadata": {},
   "outputs": [
    {
     "data": {
      "text/plain": [
       "2        1\n",
       "3        0\n",
       "4        0\n",
       "6        0\n",
       "9        0\n",
       "        ..\n",
       "19704    1\n",
       "19705    2\n",
       "19706    1\n",
       "19710    2\n",
       "19711    0\n",
       "Name: nro_invs, Length: 12005, dtype: int32"
      ]
     },
     "execution_count": 65,
     "metadata": {},
     "output_type": "execute_result"
    }
   ],
   "source": [
    "df['nro_invs']"
   ]
  },
  {
   "cell_type": "code",
   "execution_count": 70,
   "metadata": {},
   "outputs": [],
   "source": [
    "df['Es_Principal'] = np.where((df['CATEG_DOCORD'] == 'Principal'), 1, 0)"
   ]
  },
  {
   "cell_type": "code",
   "execution_count": 72,
   "metadata": {},
   "outputs": [
    {
     "data": {
      "text/plain": [
       "2        Principal\n",
       "3         Auxiliar\n",
       "4        Principal\n",
       "6        Principal\n",
       "9        Principal\n",
       "           ...    \n",
       "19704     Auxiliar\n",
       "19705    Principal\n",
       "19706    Principal\n",
       "19710     Auxiliar\n",
       "19711     Auxiliar\n",
       "Name: CATEG_DOCORD, Length: 12005, dtype: category\n",
       "Categories (4, object): ['Asociado', 'Auxiliar', 'NINGUNO', 'Principal']"
      ]
     },
     "execution_count": 72,
     "metadata": {},
     "output_type": "execute_result"
    }
   ],
   "source": [
    "df['CATEG_DOCORD'] "
   ]
  },
  {
   "cell_type": "code",
   "execution_count": 88,
   "metadata": {},
   "outputs": [],
   "source": [
    "data_final = df.loc[:, ['Es_Lima', 'sexo', 'gap_titulacion', 'gap_postgrado', 'nro_post',\n",
    "                        'capac_doc', 'evento', 'cono_compu', 'CATEG_NOUNI', 'nro_invs','Es_Principal']]"
   ]
  },
  {
   "cell_type": "code",
   "execution_count": 89,
   "metadata": {},
   "outputs": [
    {
     "data": {
      "text/html": [
       "<div>\n",
       "<style scoped>\n",
       "    .dataframe tbody tr th:only-of-type {\n",
       "        vertical-align: middle;\n",
       "    }\n",
       "\n",
       "    .dataframe tbody tr th {\n",
       "        vertical-align: top;\n",
       "    }\n",
       "\n",
       "    .dataframe thead th {\n",
       "        text-align: right;\n",
       "    }\n",
       "</style>\n",
       "<table border=\"1\" class=\"dataframe\">\n",
       "  <thead>\n",
       "    <tr style=\"text-align: right;\">\n",
       "      <th></th>\n",
       "      <th>Es_Lima</th>\n",
       "      <th>sexo</th>\n",
       "      <th>gap_titulacion</th>\n",
       "      <th>gap_postgrado</th>\n",
       "      <th>nro_post</th>\n",
       "      <th>capac_doc</th>\n",
       "      <th>evento</th>\n",
       "      <th>cono_compu</th>\n",
       "      <th>CATEG_NOUNI</th>\n",
       "      <th>nro_invs</th>\n",
       "      <th>Es_Principal</th>\n",
       "    </tr>\n",
       "  </thead>\n",
       "  <tbody>\n",
       "    <tr>\n",
       "      <th>2</th>\n",
       "      <td>1</td>\n",
       "      <td>0</td>\n",
       "      <td>3.0</td>\n",
       "      <td>0.0</td>\n",
       "      <td>1</td>\n",
       "      <td>0</td>\n",
       "      <td>1</td>\n",
       "      <td>1</td>\n",
       "      <td>Trabajador independiente o por su cuenta</td>\n",
       "      <td>1</td>\n",
       "      <td>1</td>\n",
       "    </tr>\n",
       "    <tr>\n",
       "      <th>3</th>\n",
       "      <td>1</td>\n",
       "      <td>0</td>\n",
       "      <td>18.0</td>\n",
       "      <td>0.0</td>\n",
       "      <td>1</td>\n",
       "      <td>0</td>\n",
       "      <td>1</td>\n",
       "      <td>0</td>\n",
       "      <td>Sin Ocupacion NOUNI</td>\n",
       "      <td>0</td>\n",
       "      <td>0</td>\n",
       "    </tr>\n",
       "    <tr>\n",
       "      <th>4</th>\n",
       "      <td>1</td>\n",
       "      <td>0</td>\n",
       "      <td>0.0</td>\n",
       "      <td>4.0</td>\n",
       "      <td>3</td>\n",
       "      <td>1</td>\n",
       "      <td>1</td>\n",
       "      <td>1</td>\n",
       "      <td>Sin Ocupacion NOUNI</td>\n",
       "      <td>0</td>\n",
       "      <td>1</td>\n",
       "    </tr>\n",
       "    <tr>\n",
       "      <th>6</th>\n",
       "      <td>1</td>\n",
       "      <td>0</td>\n",
       "      <td>0.0</td>\n",
       "      <td>4.0</td>\n",
       "      <td>3</td>\n",
       "      <td>1</td>\n",
       "      <td>1</td>\n",
       "      <td>1</td>\n",
       "      <td>Sin Ocupacion NOUNI</td>\n",
       "      <td>0</td>\n",
       "      <td>1</td>\n",
       "    </tr>\n",
       "    <tr>\n",
       "      <th>9</th>\n",
       "      <td>1</td>\n",
       "      <td>0</td>\n",
       "      <td>2.0</td>\n",
       "      <td>11.0</td>\n",
       "      <td>2</td>\n",
       "      <td>0</td>\n",
       "      <td>1</td>\n",
       "      <td>1</td>\n",
       "      <td>Sin Ocupacion NOUNI</td>\n",
       "      <td>0</td>\n",
       "      <td>1</td>\n",
       "    </tr>\n",
       "    <tr>\n",
       "      <th>...</th>\n",
       "      <td>...</td>\n",
       "      <td>...</td>\n",
       "      <td>...</td>\n",
       "      <td>...</td>\n",
       "      <td>...</td>\n",
       "      <td>...</td>\n",
       "      <td>...</td>\n",
       "      <td>...</td>\n",
       "      <td>...</td>\n",
       "      <td>...</td>\n",
       "      <td>...</td>\n",
       "    </tr>\n",
       "    <tr>\n",
       "      <th>19704</th>\n",
       "      <td>1</td>\n",
       "      <td>1</td>\n",
       "      <td>1.0</td>\n",
       "      <td>4.0</td>\n",
       "      <td>3</td>\n",
       "      <td>1</td>\n",
       "      <td>1</td>\n",
       "      <td>1</td>\n",
       "      <td>Empleado</td>\n",
       "      <td>1</td>\n",
       "      <td>0</td>\n",
       "    </tr>\n",
       "    <tr>\n",
       "      <th>19705</th>\n",
       "      <td>1</td>\n",
       "      <td>1</td>\n",
       "      <td>0.0</td>\n",
       "      <td>21.0</td>\n",
       "      <td>1</td>\n",
       "      <td>0</td>\n",
       "      <td>1</td>\n",
       "      <td>1</td>\n",
       "      <td>Sin Ocupacion NOUNI</td>\n",
       "      <td>2</td>\n",
       "      <td>1</td>\n",
       "    </tr>\n",
       "    <tr>\n",
       "      <th>19706</th>\n",
       "      <td>1</td>\n",
       "      <td>1</td>\n",
       "      <td>0.0</td>\n",
       "      <td>24.0</td>\n",
       "      <td>3</td>\n",
       "      <td>1</td>\n",
       "      <td>1</td>\n",
       "      <td>1</td>\n",
       "      <td>Empleado</td>\n",
       "      <td>1</td>\n",
       "      <td>1</td>\n",
       "    </tr>\n",
       "    <tr>\n",
       "      <th>19710</th>\n",
       "      <td>1</td>\n",
       "      <td>0</td>\n",
       "      <td>0.0</td>\n",
       "      <td>5.0</td>\n",
       "      <td>2</td>\n",
       "      <td>1</td>\n",
       "      <td>1</td>\n",
       "      <td>1</td>\n",
       "      <td>Empleado</td>\n",
       "      <td>2</td>\n",
       "      <td>0</td>\n",
       "    </tr>\n",
       "    <tr>\n",
       "      <th>19711</th>\n",
       "      <td>1</td>\n",
       "      <td>0</td>\n",
       "      <td>5.0</td>\n",
       "      <td>NaN</td>\n",
       "      <td>0</td>\n",
       "      <td>0</td>\n",
       "      <td>1</td>\n",
       "      <td>1</td>\n",
       "      <td>Sin Ocupacion NOUNI</td>\n",
       "      <td>0</td>\n",
       "      <td>0</td>\n",
       "    </tr>\n",
       "  </tbody>\n",
       "</table>\n",
       "<p>12005 rows × 11 columns</p>\n",
       "</div>"
      ],
      "text/plain": [
       "       Es_Lima  sexo  gap_titulacion  gap_postgrado  nro_post  capac_doc  \\\n",
       "2            1     0             3.0            0.0         1          0   \n",
       "3            1     0            18.0            0.0         1          0   \n",
       "4            1     0             0.0            4.0         3          1   \n",
       "6            1     0             0.0            4.0         3          1   \n",
       "9            1     0             2.0           11.0         2          0   \n",
       "...        ...   ...             ...            ...       ...        ...   \n",
       "19704        1     1             1.0            4.0         3          1   \n",
       "19705        1     1             0.0           21.0         1          0   \n",
       "19706        1     1             0.0           24.0         3          1   \n",
       "19710        1     0             0.0            5.0         2          1   \n",
       "19711        1     0             5.0            NaN         0          0   \n",
       "\n",
       "       evento  cono_compu                               CATEG_NOUNI  nro_invs  \\\n",
       "2           1           1  Trabajador independiente o por su cuenta         1   \n",
       "3           1           0                       Sin Ocupacion NOUNI         0   \n",
       "4           1           1                       Sin Ocupacion NOUNI         0   \n",
       "6           1           1                       Sin Ocupacion NOUNI         0   \n",
       "9           1           1                       Sin Ocupacion NOUNI         0   \n",
       "...       ...         ...                                       ...       ...   \n",
       "19704       1           1                                  Empleado         1   \n",
       "19705       1           1                       Sin Ocupacion NOUNI         2   \n",
       "19706       1           1                                  Empleado         1   \n",
       "19710       1           1                                  Empleado         2   \n",
       "19711       1           1                       Sin Ocupacion NOUNI         0   \n",
       "\n",
       "       Es_Principal  \n",
       "2                 1  \n",
       "3                 0  \n",
       "4                 1  \n",
       "6                 1  \n",
       "9                 1  \n",
       "...             ...  \n",
       "19704             0  \n",
       "19705             1  \n",
       "19706             1  \n",
       "19710             0  \n",
       "19711             0  \n",
       "\n",
       "[12005 rows x 11 columns]"
      ]
     },
     "execution_count": 89,
     "metadata": {},
     "output_type": "execute_result"
    }
   ],
   "source": [
    "data_final"
   ]
  },
  {
   "cell_type": "code",
   "execution_count": 90,
   "metadata": {},
   "outputs": [
    {
     "data": {
      "text/plain": [
       "['Trabajador independiente o por su cuenta',\n",
       " 'Sin Ocupacion NOUNI',\n",
       " 'Empleado',\n",
       " 'Empleador o patrono',\n",
       " 'Otro']"
      ]
     },
     "execution_count": 90,
     "metadata": {},
     "output_type": "execute_result"
    }
   ],
   "source": [
    "data_final.CATEG_NOUNI.unique().to_list()"
   ]
  },
  {
   "cell_type": "code",
   "execution_count": 91,
   "metadata": {},
   "outputs": [],
   "source": [
    "# generate binary values using get_dummies\n",
    "data_final = pd.get_dummies(data_final, columns=[\"CATEG_NOUNI\"], prefix=[\"Categ_\"])\n"
   ]
  },
  {
   "cell_type": "code",
   "execution_count": 94,
   "metadata": {},
   "outputs": [
    {
     "data": {
      "text/plain": [
       "Es_Lima                                            0\n",
       "sexo                                               0\n",
       "gap_titulacion                                     0\n",
       "gap_postgrado                                      0\n",
       "nro_post                                           0\n",
       "capac_doc                                          0\n",
       "evento                                             0\n",
       "cono_compu                                         0\n",
       "nro_invs                                           0\n",
       "Es_Principal                                       0\n",
       "Categ__Sin Ocupacion NOUNI                         0\n",
       "Categ__Empleado                                    0\n",
       "Categ__Empleador o patrono                         0\n",
       "Categ__Otro                                        0\n",
       "Categ__Trabajador independiente o por su cuenta    0\n",
       "dtype: int64"
      ]
     },
     "execution_count": 94,
     "metadata": {},
     "output_type": "execute_result"
    }
   ],
   "source": [
    "\n",
    "data_final.isnull().sum()"
   ]
  },
  {
   "cell_type": "code",
   "execution_count": 93,
   "metadata": {},
   "outputs": [],
   "source": [
    "data_final = data_final[(data_final['gap_titulacion'].notna()) & (data_final['gap_postgrado'].notna())]"
   ]
  },
  {
   "cell_type": "code",
   "execution_count": 97,
   "metadata": {},
   "outputs": [],
   "source": [
    "data_final.to_csv('data_final.csv')"
   ]
  },
  {
   "cell_type": "code",
   "execution_count": 96,
   "metadata": {},
   "outputs": [],
   "source": [
    "from pandas_profiling import ProfileReport\n"
   ]
  },
  {
   "cell_type": "code",
   "execution_count": 98,
   "metadata": {},
   "outputs": [],
   "source": [
    "\n"
   ]
  },
  {
   "cell_type": "code",
   "execution_count": 99,
   "metadata": {},
   "outputs": [
    {
     "name": "stderr",
     "output_type": "stream",
     "text": [
      "Summarize dataset: 100%|██████████| 29/29 [00:27<00:00,  1.07it/s, Completed]\n",
      "Generate report structure: 100%|██████████| 1/1 [00:11<00:00, 11.04s/it]\n",
      "Render HTML: 100%|██████████| 1/1 [00:03<00:00,  3.53s/it]\n",
      "Export report to file: 100%|██████████| 1/1 [00:00<00:00, 83.64it/s]\n"
     ]
    }
   ],
   "source": [
    "\n"
   ]
  },
  {
   "cell_type": "code",
   "execution_count": 100,
   "metadata": {},
   "outputs": [],
   "source": [
    "import dtale\n",
    "d = dtale.show(data_final)\n",
    "d.open_browser()"
   ]
  },
  {
   "cell_type": "code",
   "execution_count": 103,
   "metadata": {},
   "outputs": [],
   "source": [
    "def remove_outlier_IQR(df):\n",
    "    Q1=df.quantile(0.25)\n",
    "    Q3=df.quantile(0.75)\n",
    "    IQR=Q3-Q1\n",
    "    df_final=df[~((df<(Q1-1.5*IQR)) | (df>(Q3+1.5*IQR)))]\n",
    "    return df_final"
   ]
  },
  {
   "cell_type": "code",
   "execution_count": 144,
   "metadata": {},
   "outputs": [],
   "source": [
    "\n",
    "df_outlier_removed=remove_outlier_IQR(data_final.gap_titulacion)"
   ]
  },
  {
   "cell_type": "code",
   "execution_count": 145,
   "metadata": {},
   "outputs": [
    {
     "data": {
      "text/plain": [
       "2        3.0\n",
       "4        0.0\n",
       "6        0.0\n",
       "9        2.0\n",
       "11       0.0\n",
       "        ... \n",
       "19703    1.0\n",
       "19704    1.0\n",
       "19705    0.0\n",
       "19706    0.0\n",
       "19710    0.0\n",
       "Name: gap_titulacion, Length: 9704, dtype: float64"
      ]
     },
     "execution_count": 145,
     "metadata": {},
     "output_type": "execute_result"
    }
   ],
   "source": [
    "df_outlier_removed"
   ]
  },
  {
   "cell_type": "code",
   "execution_count": 146,
   "metadata": {},
   "outputs": [],
   "source": [
    "df_outlier_removed=pd.DataFrame(df_outlier_removed)\n"
   ]
  },
  {
   "cell_type": "code",
   "execution_count": 147,
   "metadata": {},
   "outputs": [],
   "source": [
    "ind_diff=data_final.index.difference(df_outlier_removed.index)"
   ]
  },
  {
   "cell_type": "code",
   "execution_count": 148,
   "metadata": {},
   "outputs": [
    {
     "data": {
      "text/plain": [
       "Int64Index([    3,    27,    54,    57,   125,   167,   174,   209,   239,\n",
       "              241,\n",
       "            ...\n",
       "            19468, 19469, 19471, 19531, 19575, 19596, 19617, 19619, 19642,\n",
       "            19667],\n",
       "           dtype='int64', length=567)"
      ]
     },
     "execution_count": 148,
     "metadata": {},
     "output_type": "execute_result"
    }
   ],
   "source": [
    "ind_diff"
   ]
  },
  {
   "cell_type": "code",
   "execution_count": 149,
   "metadata": {},
   "outputs": [],
   "source": [
    "data_final.drop(ind_diff, inplace = True)"
   ]
  },
  {
   "cell_type": "code",
   "execution_count": 156,
   "metadata": {},
   "outputs": [],
   "source": [
    "data_final = data_final.loc[data_final['gap_postgrado'] > 0]"
   ]
  },
  {
   "cell_type": "code",
   "execution_count": 159,
   "metadata": {},
   "outputs": [
    {
     "data": {
      "text/plain": [
       "(9228, 15)"
      ]
     },
     "execution_count": 159,
     "metadata": {},
     "output_type": "execute_result"
    }
   ],
   "source": [
    "data_final.shape"
   ]
  },
  {
   "cell_type": "code",
   "execution_count": 158,
   "metadata": {},
   "outputs": [
    {
     "name": "stderr",
     "output_type": "stream",
     "text": [
      "Summarize dataset: 100%|██████████| 29/29 [00:15<00:00,  1.84it/s, Completed]\n",
      "Generate report structure: 100%|██████████| 1/1 [00:06<00:00,  6.90s/it]\n",
      "Render HTML: 100%|██████████| 1/1 [00:01<00:00,  1.43s/it]\n",
      "Export report to file: 100%|██████████| 1/1 [00:00<00:00, 83.52it/s]\n"
     ]
    }
   ],
   "source": [
    "profile = ProfileReport(data_final, title=\"Pandas Profiling Report\")\n",
    "profile.to_file(\"reporte.html\")"
   ]
  },
  {
   "cell_type": "code",
   "execution_count": 102,
   "metadata": {},
   "outputs": [],
   "source": [
    "dtale.show(data_final).open_browser()"
   ]
  },
  {
   "cell_type": "code",
   "execution_count": 163,
   "metadata": {},
   "outputs": [
    {
     "data": {
      "text/plain": [
       "<seaborn.axisgrid.FacetGrid at 0x15c1f33f340>"
      ]
     },
     "execution_count": 163,
     "metadata": {},
     "output_type": "execute_result"
    },
    {
     "data": {
      "image/png": "[encoded data removed]",
      "text/plain": [
       "<Figure size 432x360 with 2 Axes>"
      ]
     },
     "metadata": {},
     "output_type": "display_data"
    }
   ],
   "source": [
    "sns.catplot(x=\"sexo\", col=\"Es_Principal\",\n",
    "                data=data_final, saturation=.5,\n",
    "                kind=\"count\", ci=None, aspect=.6)"
   ]
  },
  {
   "cell_type": "code",
   "execution_count": 164,
   "metadata": {},
   "outputs": [],
   "source": [
    "# Modelo Logistico\n",
    "\n",
    "x = data_final.drop(['Es_Principal'], axis = 1)"
   ]
  },
  {
   "cell_type": "markdown",
   "metadata": {},
   "source": []
  },
  {
   "cell_type": "code",
   "execution_count": 166,
   "metadata": {},
   "outputs": [],
   "source": [
    "y = data_final['Es_Principal']"
   ]
  },
  {
   "cell_type": "code",
   "execution_count": 167,
   "metadata": {},
   "outputs": [
    {
     "name": "stdout",
     "output_type": "stream",
     "text": [
      "Executing shutdown due to inactivity...\n",
      "Executing shutdown due to inactivity...\n",
      "Executing shutdown due to inactivity...\n"
     ]
    },
    {
     "name": "stderr",
     "output_type": "stream",
     "text": [
      "2021-11-07 01:13:04,072 - INFO     - Executing shutdown due to inactivity...\n"
     ]
    }
   ],
   "source": [
    "x_train, x_test, y_train, y_test = train_test_split(\n",
    "                                        x,\n",
    "                                        y,\n",
    "                                        train_size   = 0.8,\n",
    "                                        random_state = 1003,\n",
    "                                        shuffle      = True\n",
    "                                    )"
   ]
  },
  {
   "cell_type": "code",
   "execution_count": 168,
   "metadata": {},
   "outputs": [
    {
     "name": "stdout",
     "output_type": "stream",
     "text": [
      "Optimization terminated successfully.\n",
      "         Current function value: 0.544522\n",
      "         Iterations 6\n"
     ]
    },
    {
     "data": {
      "text/html": [
       "<table class=\"simpletable\">\n",
       "<caption>Logit Regression Results</caption>\n",
       "<tr>\n",
       "  <th>Dep. Variable:</th>     <td>Es_Principal</td>   <th>  No. Observations:  </th>  <td>  7382</td> \n",
       "</tr>\n",
       "<tr>\n",
       "  <th>Model:</th>                 <td>Logit</td>      <th>  Df Residuals:      </th>  <td>  7368</td> \n",
       "</tr>\n",
       "<tr>\n",
       "  <th>Method:</th>                 <td>MLE</td>       <th>  Df Model:          </th>  <td>    13</td> \n",
       "</tr>\n",
       "<tr>\n",
       "  <th>Date:</th>            <td>Sun, 07 Nov 2021</td> <th>  Pseudo R-squ.:     </th>  <td>0.1826</td> \n",
       "</tr>\n",
       "<tr>\n",
       "  <th>Time:</th>                <td>01:14:25</td>     <th>  Log-Likelihood:    </th> <td> -4019.7</td>\n",
       "</tr>\n",
       "<tr>\n",
       "  <th>converged:</th>             <td>True</td>       <th>  LL-Null:           </th> <td> -4917.4</td>\n",
       "</tr>\n",
       "<tr>\n",
       "  <th>Covariance Type:</th>     <td>nonrobust</td>    <th>  LLR p-value:       </th>  <td> 0.000</td> \n",
       "</tr>\n",
       "</table>\n",
       "<table class=\"simpletable\">\n",
       "<tr>\n",
       "                         <td></td>                            <th>coef</th>     <th>std err</th>      <th>z</th>      <th>P>|z|</th>  <th>[0.025</th>    <th>0.975]</th>  \n",
       "</tr>\n",
       "<tr>\n",
       "  <th>Es_Lima</th>                                         <td>   -0.3808</td> <td>    0.056</td> <td>   -6.805</td> <td> 0.000</td> <td>   -0.490</td> <td>   -0.271</td>\n",
       "</tr>\n",
       "<tr>\n",
       "  <th>sexo</th>                                            <td>   -0.5147</td> <td>    0.063</td> <td>   -8.166</td> <td> 0.000</td> <td>   -0.638</td> <td>   -0.391</td>\n",
       "</tr>\n",
       "<tr>\n",
       "  <th>gap_titulacion</th>                                  <td>   -0.0027</td> <td>    0.012</td> <td>   -0.230</td> <td> 0.818</td> <td>   -0.026</td> <td>    0.020</td>\n",
       "</tr>\n",
       "<tr>\n",
       "  <th>gap_postgrado</th>                                   <td>    0.0734</td> <td>    0.003</td> <td>   21.926</td> <td> 0.000</td> <td>    0.067</td> <td>    0.080</td>\n",
       "</tr>\n",
       "<tr>\n",
       "  <th>nro_post</th>                                        <td>    0.5527</td> <td>    0.038</td> <td>   14.388</td> <td> 0.000</td> <td>    0.477</td> <td>    0.628</td>\n",
       "</tr>\n",
       "<tr>\n",
       "  <th>capac_doc</th>                                       <td>   -0.5002</td> <td>    0.059</td> <td>   -8.501</td> <td> 0.000</td> <td>   -0.616</td> <td>   -0.385</td>\n",
       "</tr>\n",
       "<tr>\n",
       "  <th>evento</th>                                          <td>   -0.0317</td> <td>    0.071</td> <td>   -0.444</td> <td> 0.657</td> <td>   -0.172</td> <td>    0.108</td>\n",
       "</tr>\n",
       "<tr>\n",
       "  <th>cono_compu</th>                                      <td>   -0.5719</td> <td>    0.230</td> <td>   -2.487</td> <td> 0.013</td> <td>   -1.023</td> <td>   -0.121</td>\n",
       "</tr>\n",
       "<tr>\n",
       "  <th>nro_invs</th>                                        <td>    0.3398</td> <td>    0.031</td> <td>   11.009</td> <td> 0.000</td> <td>    0.279</td> <td>    0.400</td>\n",
       "</tr>\n",
       "<tr>\n",
       "  <th>Categ__Sin Ocupacion NOUNI</th>                      <td>   -0.1649</td> <td>    0.246</td> <td>   -0.670</td> <td> 0.503</td> <td>   -0.647</td> <td>    0.317</td>\n",
       "</tr>\n",
       "<tr>\n",
       "  <th>Categ__Empleado</th>                                 <td>   -1.7955</td> <td>    0.255</td> <td>   -7.040</td> <td> 0.000</td> <td>   -2.295</td> <td>   -1.296</td>\n",
       "</tr>\n",
       "<tr>\n",
       "  <th>Categ__Empleador o patrono</th>                      <td>   -1.0015</td> <td>    0.326</td> <td>   -3.075</td> <td> 0.002</td> <td>   -1.640</td> <td>   -0.363</td>\n",
       "</tr>\n",
       "<tr>\n",
       "  <th>Categ__Otro</th>                                     <td>   -0.2331</td> <td>    1.271</td> <td>   -0.183</td> <td> 0.855</td> <td>   -2.725</td> <td>    2.259</td>\n",
       "</tr>\n",
       "<tr>\n",
       "  <th>Categ__Trabajador independiente o por su cuenta</th> <td>   -0.9562</td> <td>    0.258</td> <td>   -3.706</td> <td> 0.000</td> <td>   -1.462</td> <td>   -0.451</td>\n",
       "</tr>\n",
       "</table>"
      ],
      "text/plain": [
       "<class 'statsmodels.iolib.summary.Summary'>\n",
       "\"\"\"\n",
       "                           Logit Regression Results                           \n",
       "==============================================================================\n",
       "Dep. Variable:           Es_Principal   No. Observations:                 7382\n",
       "Model:                          Logit   Df Residuals:                     7368\n",
       "Method:                           MLE   Df Model:                           13\n",
       "Date:                Sun, 07 Nov 2021   Pseudo R-squ.:                  0.1826\n",
       "Time:                        01:14:25   Log-Likelihood:                -4019.7\n",
       "converged:                       True   LL-Null:                       -4917.4\n",
       "Covariance Type:            nonrobust   LLR p-value:                     0.000\n",
       "===================================================================================================================\n",
       "                                                      coef    std err          z      P>|z|      [0.025      0.975]\n",
       "-------------------------------------------------------------------------------------------------------------------\n",
       "Es_Lima                                            -0.3808      0.056     -6.805      0.000      -0.490      -0.271\n",
       "sexo                                               -0.5147      0.063     -8.166      0.000      -0.638      -0.391\n",
       "gap_titulacion                                     -0.0027      0.012     -0.230      0.818      -0.026       0.020\n",
       "gap_postgrado                                       0.0734      0.003     21.926      0.000       0.067       0.080\n",
       "nro_post                                            0.5527      0.038     14.388      0.000       0.477       0.628\n",
       "capac_doc                                          -0.5002      0.059     -8.501      0.000      -0.616      -0.385\n",
       "evento                                             -0.0317      0.071     -0.444      0.657      -0.172       0.108\n",
       "cono_compu                                         -0.5719      0.230     -2.487      0.013      -1.023      -0.121\n",
       "nro_invs                                            0.3398      0.031     11.009      0.000       0.279       0.400\n",
       "Categ__Sin Ocupacion NOUNI                         -0.1649      0.246     -0.670      0.503      -0.647       0.317\n",
       "Categ__Empleado                                    -1.7955      0.255     -7.040      0.000      -2.295      -1.296\n",
       "Categ__Empleador o patrono                         -1.0015      0.326     -3.075      0.002      -1.640      -0.363\n",
       "Categ__Otro                                        -0.2331      1.271     -0.183      0.855      -2.725       2.259\n",
       "Categ__Trabajador independiente o por su cuenta    -0.9562      0.258     -3.706      0.000      -1.462      -0.451\n",
       "===================================================================================================================\n",
       "\"\"\""
      ]
     },
     "execution_count": 168,
     "metadata": {},
     "output_type": "execute_result"
    },
    {
     "name": "stdout",
     "output_type": "stream",
     "text": [
      "Executing shutdown due to inactivity...\n",
      "Executing shutdown due to inactivity...\n",
      "Executing shutdown due to inactivity...\n"
     ]
    },
    {
     "name": "stderr",
     "output_type": "stream",
     "text": [
      "2021-11-07 01:16:15,446 - INFO     - Executing shutdown due to inactivity...\n"
     ]
    }
   ],
   "source": [
    "\n",
    "modelo = sm.Logit(endog=y_train, exog=x_train,)\n",
    "modelo = modelo.fit()\n",
    "modelo.summary()"
   ]
  },
  {
   "cell_type": "code",
   "execution_count": 170,
   "metadata": {},
   "outputs": [],
   "source": [
    "x = data_final.drop(['Es_Principal', 'gap_titulacion', 'evento', 'Categ__Sin Ocupacion NOUNI', 'Categ__Otro'], axis = 1)"
   ]
  },
  {
   "cell_type": "code",
   "execution_count": 171,
   "metadata": {},
   "outputs": [],
   "source": [
    "y =  data_final['Es_Principal']"
   ]
  },
  {
   "cell_type": "code",
   "execution_count": 172,
   "metadata": {},
   "outputs": [],
   "source": [
    "x_train, x_test, y_train, y_test = train_test_split(\n",
    "                                        x,\n",
    "                                        y,\n",
    "                                        train_size   = 0.8,\n",
    "                                        random_state = 1003,\n",
    "                                        shuffle      = True\n",
    "                                    )"
   ]
  },
  {
   "cell_type": "code",
   "execution_count": 173,
   "metadata": {},
   "outputs": [
    {
     "name": "stdout",
     "output_type": "stream",
     "text": [
      "Optimization terminated successfully.\n",
      "         Current function value: 0.544578\n",
      "         Iterations 6\n"
     ]
    },
    {
     "data": {
      "text/html": [
       "<table class=\"simpletable\">\n",
       "<caption>Logit Regression Results</caption>\n",
       "<tr>\n",
       "  <th>Dep. Variable:</th>     <td>Es_Principal</td>   <th>  No. Observations:  </th>  <td>  7382</td> \n",
       "</tr>\n",
       "<tr>\n",
       "  <th>Model:</th>                 <td>Logit</td>      <th>  Df Residuals:      </th>  <td>  7372</td> \n",
       "</tr>\n",
       "<tr>\n",
       "  <th>Method:</th>                 <td>MLE</td>       <th>  Df Model:          </th>  <td>     9</td> \n",
       "</tr>\n",
       "<tr>\n",
       "  <th>Date:</th>            <td>Sun, 07 Nov 2021</td> <th>  Pseudo R-squ.:     </th>  <td>0.1825</td> \n",
       "</tr>\n",
       "<tr>\n",
       "  <th>Time:</th>                <td>01:31:56</td>     <th>  Log-Likelihood:    </th> <td> -4020.1</td>\n",
       "</tr>\n",
       "<tr>\n",
       "  <th>converged:</th>             <td>True</td>       <th>  LL-Null:           </th> <td> -4917.4</td>\n",
       "</tr>\n",
       "<tr>\n",
       "  <th>Covariance Type:</th>     <td>nonrobust</td>    <th>  LLR p-value:       </th>  <td> 0.000</td> \n",
       "</tr>\n",
       "</table>\n",
       "<table class=\"simpletable\">\n",
       "<tr>\n",
       "                         <td></td>                            <th>coef</th>     <th>std err</th>      <th>z</th>      <th>P>|z|</th>  <th>[0.025</th>    <th>0.975]</th>  \n",
       "</tr>\n",
       "<tr>\n",
       "  <th>Es_Lima</th>                                         <td>   -0.3879</td> <td>    0.055</td> <td>   -7.004</td> <td> 0.000</td> <td>   -0.497</td> <td>   -0.279</td>\n",
       "</tr>\n",
       "<tr>\n",
       "  <th>sexo</th>                                            <td>   -0.5162</td> <td>    0.063</td> <td>   -8.219</td> <td> 0.000</td> <td>   -0.639</td> <td>   -0.393</td>\n",
       "</tr>\n",
       "<tr>\n",
       "  <th>gap_postgrado</th>                                   <td>    0.0730</td> <td>    0.003</td> <td>   22.303</td> <td> 0.000</td> <td>    0.067</td> <td>    0.079</td>\n",
       "</tr>\n",
       "<tr>\n",
       "  <th>nro_post</th>                                        <td>    0.5464</td> <td>    0.037</td> <td>   14.634</td> <td> 0.000</td> <td>    0.473</td> <td>    0.620</td>\n",
       "</tr>\n",
       "<tr>\n",
       "  <th>capac_doc</th>                                       <td>   -0.5087</td> <td>    0.058</td> <td>   -8.803</td> <td> 0.000</td> <td>   -0.622</td> <td>   -0.395</td>\n",
       "</tr>\n",
       "<tr>\n",
       "  <th>cono_compu</th>                                      <td>   -0.7402</td> <td>    0.092</td> <td>   -8.067</td> <td> 0.000</td> <td>   -0.920</td> <td>   -0.560</td>\n",
       "</tr>\n",
       "<tr>\n",
       "  <th>nro_invs</th>                                        <td>    0.3367</td> <td>    0.031</td> <td>   11.003</td> <td> 0.000</td> <td>    0.277</td> <td>    0.397</td>\n",
       "</tr>\n",
       "<tr>\n",
       "  <th>Categ__Empleado</th>                                 <td>   -1.6318</td> <td>    0.078</td> <td>  -20.940</td> <td> 0.000</td> <td>   -1.785</td> <td>   -1.479</td>\n",
       "</tr>\n",
       "<tr>\n",
       "  <th>Categ__Empleador o patrono</th>                      <td>   -0.8377</td> <td>    0.216</td> <td>   -3.870</td> <td> 0.000</td> <td>   -1.262</td> <td>   -0.414</td>\n",
       "</tr>\n",
       "<tr>\n",
       "  <th>Categ__Trabajador independiente o por su cuenta</th> <td>   -0.7937</td> <td>    0.080</td> <td>   -9.899</td> <td> 0.000</td> <td>   -0.951</td> <td>   -0.637</td>\n",
       "</tr>\n",
       "</table>"
      ],
      "text/plain": [
       "<class 'statsmodels.iolib.summary.Summary'>\n",
       "\"\"\"\n",
       "                           Logit Regression Results                           \n",
       "==============================================================================\n",
       "Dep. Variable:           Es_Principal   No. Observations:                 7382\n",
       "Model:                          Logit   Df Residuals:                     7372\n",
       "Method:                           MLE   Df Model:                            9\n",
       "Date:                Sun, 07 Nov 2021   Pseudo R-squ.:                  0.1825\n",
       "Time:                        01:31:56   Log-Likelihood:                -4020.1\n",
       "converged:                       True   LL-Null:                       -4917.4\n",
       "Covariance Type:            nonrobust   LLR p-value:                     0.000\n",
       "===================================================================================================================\n",
       "                                                      coef    std err          z      P>|z|      [0.025      0.975]\n",
       "-------------------------------------------------------------------------------------------------------------------\n",
       "Es_Lima                                            -0.3879      0.055     -7.004      0.000      -0.497      -0.279\n",
       "sexo                                               -0.5162      0.063     -8.219      0.000      -0.639      -0.393\n",
       "gap_postgrado                                       0.0730      0.003     22.303      0.000       0.067       0.079\n",
       "nro_post                                            0.5464      0.037     14.634      0.000       0.473       0.620\n",
       "capac_doc                                          -0.5087      0.058     -8.803      0.000      -0.622      -0.395\n",
       "cono_compu                                         -0.7402      0.092     -8.067      0.000      -0.920      -0.560\n",
       "nro_invs                                            0.3367      0.031     11.003      0.000       0.277       0.397\n",
       "Categ__Empleado                                    -1.6318      0.078    -20.940      0.000      -1.785      -1.479\n",
       "Categ__Empleador o patrono                         -0.8377      0.216     -3.870      0.000      -1.262      -0.414\n",
       "Categ__Trabajador independiente o por su cuenta    -0.7937      0.080     -9.899      0.000      -0.951      -0.637\n",
       "===================================================================================================================\n",
       "\"\"\""
      ]
     },
     "execution_count": 173,
     "metadata": {},
     "output_type": "execute_result"
    }
   ],
   "source": [
    "\n",
    "modelo = sm.Logit(endog=y_train, exog=x_train,)\n",
    "modelo = modelo.fit()\n",
    "modelo.summary()"
   ]
  },
  {
   "cell_type": "code",
   "execution_count": 174,
   "metadata": {},
   "outputs": [
    {
     "data": {
      "text/html": [
       "<div>\n",
       "<style scoped>\n",
       "    .dataframe tbody tr th:only-of-type {\n",
       "        vertical-align: middle;\n",
       "    }\n",
       "\n",
       "    .dataframe tbody tr th {\n",
       "        vertical-align: top;\n",
       "    }\n",
       "\n",
       "    .dataframe thead th {\n",
       "        text-align: right;\n",
       "    }\n",
       "</style>\n",
       "<table border=\"1\" class=\"dataframe\">\n",
       "  <thead>\n",
       "    <tr style=\"text-align: right;\">\n",
       "      <th></th>\n",
       "      <th>Es_Lima</th>\n",
       "      <th>sexo</th>\n",
       "      <th>gap_titulacion</th>\n",
       "      <th>gap_postgrado</th>\n",
       "      <th>nro_post</th>\n",
       "      <th>capac_doc</th>\n",
       "      <th>evento</th>\n",
       "      <th>cono_compu</th>\n",
       "      <th>nro_invs</th>\n",
       "      <th>Es_Principal</th>\n",
       "      <th>Categ__Sin Ocupacion NOUNI</th>\n",
       "      <th>Categ__Empleado</th>\n",
       "      <th>Categ__Empleador o patrono</th>\n",
       "      <th>Categ__Otro</th>\n",
       "      <th>Categ__Trabajador independiente o por su cuenta</th>\n",
       "    </tr>\n",
       "  </thead>\n",
       "  <tbody>\n",
       "    <tr>\n",
       "      <th>Es_Lima</th>\n",
       "      <td>1.000000</td>\n",
       "      <td>0.054922</td>\n",
       "      <td>0.029792</td>\n",
       "      <td>-0.165671</td>\n",
       "      <td>0.023515</td>\n",
       "      <td>-0.039353</td>\n",
       "      <td>0.048655</td>\n",
       "      <td>-0.006654</td>\n",
       "      <td>-0.103601</td>\n",
       "      <td>-0.161000</td>\n",
       "      <td>-0.159418</td>\n",
       "      <td>0.118020</td>\n",
       "      <td>0.036591</td>\n",
       "      <td>-0.006954</td>\n",
       "      <td>0.077498</td>\n",
       "    </tr>\n",
       "    <tr>\n",
       "      <th>sexo</th>\n",
       "      <td>0.054922</td>\n",
       "      <td>1.000000</td>\n",
       "      <td>-0.053717</td>\n",
       "      <td>-0.004043</td>\n",
       "      <td>0.082722</td>\n",
       "      <td>0.101198</td>\n",
       "      <td>0.092527</td>\n",
       "      <td>0.018241</td>\n",
       "      <td>0.071835</td>\n",
       "      <td>-0.080604</td>\n",
       "      <td>0.036987</td>\n",
       "      <td>0.026166</td>\n",
       "      <td>-0.027355</td>\n",
       "      <td>0.011693</td>\n",
       "      <td>-0.071542</td>\n",
       "    </tr>\n",
       "    <tr>\n",
       "      <th>gap_titulacion</th>\n",
       "      <td>0.029792</td>\n",
       "      <td>-0.053717</td>\n",
       "      <td>1.000000</td>\n",
       "      <td>-0.094529</td>\n",
       "      <td>-0.094870</td>\n",
       "      <td>-0.009943</td>\n",
       "      <td>-0.047043</td>\n",
       "      <td>0.024484</td>\n",
       "      <td>-0.010191</td>\n",
       "      <td>-0.017490</td>\n",
       "      <td>0.077829</td>\n",
       "      <td>-0.131568</td>\n",
       "      <td>-0.003993</td>\n",
       "      <td>-0.000071</td>\n",
       "      <td>0.039819</td>\n",
       "    </tr>\n",
       "    <tr>\n",
       "      <th>gap_postgrado</th>\n",
       "      <td>-0.165671</td>\n",
       "      <td>-0.004043</td>\n",
       "      <td>-0.094529</td>\n",
       "      <td>1.000000</td>\n",
       "      <td>-0.047198</td>\n",
       "      <td>0.075836</td>\n",
       "      <td>-0.043297</td>\n",
       "      <td>-0.024472</td>\n",
       "      <td>0.054012</td>\n",
       "      <td>0.291095</td>\n",
       "      <td>0.155817</td>\n",
       "      <td>-0.109716</td>\n",
       "      <td>-0.013769</td>\n",
       "      <td>0.008441</td>\n",
       "      <td>-0.089985</td>\n",
       "    </tr>\n",
       "    <tr>\n",
       "      <th>nro_post</th>\n",
       "      <td>0.023515</td>\n",
       "      <td>0.082722</td>\n",
       "      <td>-0.094870</td>\n",
       "      <td>-0.047198</td>\n",
       "      <td>1.000000</td>\n",
       "      <td>0.049783</td>\n",
       "      <td>0.089254</td>\n",
       "      <td>0.040950</td>\n",
       "      <td>0.106180</td>\n",
       "      <td>0.137950</td>\n",
       "      <td>-0.061983</td>\n",
       "      <td>0.065507</td>\n",
       "      <td>0.001394</td>\n",
       "      <td>0.020606</td>\n",
       "      <td>0.011379</td>\n",
       "    </tr>\n",
       "    <tr>\n",
       "      <th>capac_doc</th>\n",
       "      <td>-0.039353</td>\n",
       "      <td>0.101198</td>\n",
       "      <td>-0.009943</td>\n",
       "      <td>0.075836</td>\n",
       "      <td>0.049783</td>\n",
       "      <td>1.000000</td>\n",
       "      <td>0.176436</td>\n",
       "      <td>0.037770</td>\n",
       "      <td>0.067444</td>\n",
       "      <td>-0.049866</td>\n",
       "      <td>0.045686</td>\n",
       "      <td>-0.046886</td>\n",
       "      <td>-0.015125</td>\n",
       "      <td>0.015795</td>\n",
       "      <td>-0.006873</td>\n",
       "    </tr>\n",
       "    <tr>\n",
       "      <th>evento</th>\n",
       "      <td>0.048655</td>\n",
       "      <td>0.092527</td>\n",
       "      <td>-0.047043</td>\n",
       "      <td>-0.043297</td>\n",
       "      <td>0.089254</td>\n",
       "      <td>0.176436</td>\n",
       "      <td>1.000000</td>\n",
       "      <td>0.050704</td>\n",
       "      <td>0.121730</td>\n",
       "      <td>-0.022440</td>\n",
       "      <td>-0.042934</td>\n",
       "      <td>0.026750</td>\n",
       "      <td>-0.015426</td>\n",
       "      <td>0.010301</td>\n",
       "      <td>0.034735</td>\n",
       "    </tr>\n",
       "    <tr>\n",
       "      <th>cono_compu</th>\n",
       "      <td>-0.006654</td>\n",
       "      <td>0.018241</td>\n",
       "      <td>0.024484</td>\n",
       "      <td>-0.024472</td>\n",
       "      <td>0.040950</td>\n",
       "      <td>0.037770</td>\n",
       "      <td>0.050704</td>\n",
       "      <td>1.000000</td>\n",
       "      <td>0.032918</td>\n",
       "      <td>-0.027689</td>\n",
       "      <td>-0.025587</td>\n",
       "      <td>0.002282</td>\n",
       "      <td>0.000707</td>\n",
       "      <td>0.002677</td>\n",
       "      <td>0.032604</td>\n",
       "    </tr>\n",
       "    <tr>\n",
       "      <th>nro_invs</th>\n",
       "      <td>-0.103601</td>\n",
       "      <td>0.071835</td>\n",
       "      <td>-0.010191</td>\n",
       "      <td>0.054012</td>\n",
       "      <td>0.106180</td>\n",
       "      <td>0.067444</td>\n",
       "      <td>0.121730</td>\n",
       "      <td>0.032918</td>\n",
       "      <td>1.000000</td>\n",
       "      <td>0.192845</td>\n",
       "      <td>0.146798</td>\n",
       "      <td>-0.153710</td>\n",
       "      <td>-0.023009</td>\n",
       "      <td>0.002537</td>\n",
       "      <td>-0.024762</td>\n",
       "    </tr>\n",
       "    <tr>\n",
       "      <th>Es_Principal</th>\n",
       "      <td>-0.161000</td>\n",
       "      <td>-0.080604</td>\n",
       "      <td>-0.017490</td>\n",
       "      <td>0.291095</td>\n",
       "      <td>0.137950</td>\n",
       "      <td>-0.049866</td>\n",
       "      <td>-0.022440</td>\n",
       "      <td>-0.027689</td>\n",
       "      <td>0.192845</td>\n",
       "      <td>1.000000</td>\n",
       "      <td>0.279079</td>\n",
       "      <td>-0.260984</td>\n",
       "      <td>-0.021550</td>\n",
       "      <td>0.005770</td>\n",
       "      <td>-0.089857</td>\n",
       "    </tr>\n",
       "    <tr>\n",
       "      <th>Categ__Sin Ocupacion NOUNI</th>\n",
       "      <td>-0.159418</td>\n",
       "      <td>0.036987</td>\n",
       "      <td>0.077829</td>\n",
       "      <td>0.155817</td>\n",
       "      <td>-0.061983</td>\n",
       "      <td>0.045686</td>\n",
       "      <td>-0.042934</td>\n",
       "      <td>-0.025587</td>\n",
       "      <td>0.146798</td>\n",
       "      <td>0.279079</td>\n",
       "      <td>1.000000</td>\n",
       "      <td>-0.669966</td>\n",
       "      <td>-0.182890</td>\n",
       "      <td>-0.031986</td>\n",
       "      <td>-0.576376</td>\n",
       "    </tr>\n",
       "    <tr>\n",
       "      <th>Categ__Empleado</th>\n",
       "      <td>0.118020</td>\n",
       "      <td>0.026166</td>\n",
       "      <td>-0.131568</td>\n",
       "      <td>-0.109716</td>\n",
       "      <td>0.065507</td>\n",
       "      <td>-0.046886</td>\n",
       "      <td>0.026750</td>\n",
       "      <td>0.002282</td>\n",
       "      <td>-0.153710</td>\n",
       "      <td>-0.260984</td>\n",
       "      <td>-0.669966</td>\n",
       "      <td>1.000000</td>\n",
       "      <td>-0.051935</td>\n",
       "      <td>-0.009083</td>\n",
       "      <td>-0.163672</td>\n",
       "    </tr>\n",
       "    <tr>\n",
       "      <th>Categ__Empleador o patrono</th>\n",
       "      <td>0.036591</td>\n",
       "      <td>-0.027355</td>\n",
       "      <td>-0.003993</td>\n",
       "      <td>-0.013769</td>\n",
       "      <td>0.001394</td>\n",
       "      <td>-0.015125</td>\n",
       "      <td>-0.015426</td>\n",
       "      <td>0.000707</td>\n",
       "      <td>-0.023009</td>\n",
       "      <td>-0.021550</td>\n",
       "      <td>-0.182890</td>\n",
       "      <td>-0.051935</td>\n",
       "      <td>1.000000</td>\n",
       "      <td>-0.002480</td>\n",
       "      <td>-0.044680</td>\n",
       "    </tr>\n",
       "    <tr>\n",
       "      <th>Categ__Otro</th>\n",
       "      <td>-0.006954</td>\n",
       "      <td>0.011693</td>\n",
       "      <td>-0.000071</td>\n",
       "      <td>0.008441</td>\n",
       "      <td>0.020606</td>\n",
       "      <td>0.015795</td>\n",
       "      <td>0.010301</td>\n",
       "      <td>0.002677</td>\n",
       "      <td>0.002537</td>\n",
       "      <td>0.005770</td>\n",
       "      <td>-0.031986</td>\n",
       "      <td>-0.009083</td>\n",
       "      <td>-0.002480</td>\n",
       "      <td>1.000000</td>\n",
       "      <td>-0.007814</td>\n",
       "    </tr>\n",
       "    <tr>\n",
       "      <th>Categ__Trabajador independiente o por su cuenta</th>\n",
       "      <td>0.077498</td>\n",
       "      <td>-0.071542</td>\n",
       "      <td>0.039819</td>\n",
       "      <td>-0.089985</td>\n",
       "      <td>0.011379</td>\n",
       "      <td>-0.006873</td>\n",
       "      <td>0.034735</td>\n",
       "      <td>0.032604</td>\n",
       "      <td>-0.024762</td>\n",
       "      <td>-0.089857</td>\n",
       "      <td>-0.576376</td>\n",
       "      <td>-0.163672</td>\n",
       "      <td>-0.044680</td>\n",
       "      <td>-0.007814</td>\n",
       "      <td>1.000000</td>\n",
       "    </tr>\n",
       "  </tbody>\n",
       "</table>\n",
       "</div>"
      ],
      "text/plain": [
       "                                                  Es_Lima      sexo  \\\n",
       "Es_Lima                                          1.000000  0.054922   \n",
       "sexo                                             0.054922  1.000000   \n",
       "gap_titulacion                                   0.029792 -0.053717   \n",
       "gap_postgrado                                   -0.165671 -0.004043   \n",
       "nro_post                                         0.023515  0.082722   \n",
       "capac_doc                                       -0.039353  0.101198   \n",
       "evento                                           0.048655  0.092527   \n",
       "cono_compu                                      -0.006654  0.018241   \n",
       "nro_invs                                        -0.103601  0.071835   \n",
       "Es_Principal                                    -0.161000 -0.080604   \n",
       "Categ__Sin Ocupacion NOUNI                      -0.159418  0.036987   \n",
       "Categ__Empleado                                  0.118020  0.026166   \n",
       "Categ__Empleador o patrono                       0.036591 -0.027355   \n",
       "Categ__Otro                                     -0.006954  0.011693   \n",
       "Categ__Trabajador independiente o por su cuenta  0.077498 -0.071542   \n",
       "\n",
       "                                                 gap_titulacion  \\\n",
       "Es_Lima                                                0.029792   \n",
       "sexo                                                  -0.053717   \n",
       "gap_titulacion                                         1.000000   \n",
       "gap_postgrado                                         -0.094529   \n",
       "nro_post                                              -0.094870   \n",
       "capac_doc                                             -0.009943   \n",
       "evento                                                -0.047043   \n",
       "cono_compu                                             0.024484   \n",
       "nro_invs                                              -0.010191   \n",
       "Es_Principal                                          -0.017490   \n",
       "Categ__Sin Ocupacion NOUNI                             0.077829   \n",
       "Categ__Empleado                                       -0.131568   \n",
       "Categ__Empleador o patrono                            -0.003993   \n",
       "Categ__Otro                                           -0.000071   \n",
       "Categ__Trabajador independiente o por su cuenta        0.039819   \n",
       "\n",
       "                                                 gap_postgrado  nro_post  \\\n",
       "Es_Lima                                              -0.165671  0.023515   \n",
       "sexo                                                 -0.004043  0.082722   \n",
       "gap_titulacion                                       -0.094529 -0.094870   \n",
       "gap_postgrado                                         1.000000 -0.047198   \n",
       "nro_post                                             -0.047198  1.000000   \n",
       "capac_doc                                             0.075836  0.049783   \n",
       "evento                                               -0.043297  0.089254   \n",
       "cono_compu                                           -0.024472  0.040950   \n",
       "nro_invs                                              0.054012  0.106180   \n",
       "Es_Principal                                          0.291095  0.137950   \n",
       "Categ__Sin Ocupacion NOUNI                            0.155817 -0.061983   \n",
       "Categ__Empleado                                      -0.109716  0.065507   \n",
       "Categ__Empleador o patrono                           -0.013769  0.001394   \n",
       "Categ__Otro                                           0.008441  0.020606   \n",
       "Categ__Trabajador independiente o por su cuenta      -0.089985  0.011379   \n",
       "\n",
       "                                                 capac_doc    evento  \\\n",
       "Es_Lima                                          -0.039353  0.048655   \n",
       "sexo                                              0.101198  0.092527   \n",
       "gap_titulacion                                   -0.009943 -0.047043   \n",
       "gap_postgrado                                     0.075836 -0.043297   \n",
       "nro_post                                          0.049783  0.089254   \n",
       "capac_doc                                         1.000000  0.176436   \n",
       "evento                                            0.176436  1.000000   \n",
       "cono_compu                                        0.037770  0.050704   \n",
       "nro_invs                                          0.067444  0.121730   \n",
       "Es_Principal                                     -0.049866 -0.022440   \n",
       "Categ__Sin Ocupacion NOUNI                        0.045686 -0.042934   \n",
       "Categ__Empleado                                  -0.046886  0.026750   \n",
       "Categ__Empleador o patrono                       -0.015125 -0.015426   \n",
       "Categ__Otro                                       0.015795  0.010301   \n",
       "Categ__Trabajador independiente o por su cuenta  -0.006873  0.034735   \n",
       "\n",
       "                                                 cono_compu  nro_invs  \\\n",
       "Es_Lima                                           -0.006654 -0.103601   \n",
       "sexo                                               0.018241  0.071835   \n",
       "gap_titulacion                                     0.024484 -0.010191   \n",
       "gap_postgrado                                     -0.024472  0.054012   \n",
       "nro_post                                           0.040950  0.106180   \n",
       "capac_doc                                          0.037770  0.067444   \n",
       "evento                                             0.050704  0.121730   \n",
       "cono_compu                                         1.000000  0.032918   \n",
       "nro_invs                                           0.032918  1.000000   \n",
       "Es_Principal                                      -0.027689  0.192845   \n",
       "Categ__Sin Ocupacion NOUNI                        -0.025587  0.146798   \n",
       "Categ__Empleado                                    0.002282 -0.153710   \n",
       "Categ__Empleador o patrono                         0.000707 -0.023009   \n",
       "Categ__Otro                                        0.002677  0.002537   \n",
       "Categ__Trabajador independiente o por su cuenta    0.032604 -0.024762   \n",
       "\n",
       "                                                 Es_Principal  \\\n",
       "Es_Lima                                             -0.161000   \n",
       "sexo                                                -0.080604   \n",
       "gap_titulacion                                      -0.017490   \n",
       "gap_postgrado                                        0.291095   \n",
       "nro_post                                             0.137950   \n",
       "capac_doc                                           -0.049866   \n",
       "evento                                              -0.022440   \n",
       "cono_compu                                          -0.027689   \n",
       "nro_invs                                             0.192845   \n",
       "Es_Principal                                         1.000000   \n",
       "Categ__Sin Ocupacion NOUNI                           0.279079   \n",
       "Categ__Empleado                                     -0.260984   \n",
       "Categ__Empleador o patrono                          -0.021550   \n",
       "Categ__Otro                                          0.005770   \n",
       "Categ__Trabajador independiente o por su cuenta     -0.089857   \n",
       "\n",
       "                                                 Categ__Sin Ocupacion NOUNI  \\\n",
       "Es_Lima                                                           -0.159418   \n",
       "sexo                                                               0.036987   \n",
       "gap_titulacion                                                     0.077829   \n",
       "gap_postgrado                                                      0.155817   \n",
       "nro_post                                                          -0.061983   \n",
       "capac_doc                                                          0.045686   \n",
       "evento                                                            -0.042934   \n",
       "cono_compu                                                        -0.025587   \n",
       "nro_invs                                                           0.146798   \n",
       "Es_Principal                                                       0.279079   \n",
       "Categ__Sin Ocupacion NOUNI                                         1.000000   \n",
       "Categ__Empleado                                                   -0.669966   \n",
       "Categ__Empleador o patrono                                        -0.182890   \n",
       "Categ__Otro                                                       -0.031986   \n",
       "Categ__Trabajador independiente o por su cuenta                   -0.576376   \n",
       "\n",
       "                                                 Categ__Empleado  \\\n",
       "Es_Lima                                                 0.118020   \n",
       "sexo                                                    0.026166   \n",
       "gap_titulacion                                         -0.131568   \n",
       "gap_postgrado                                          -0.109716   \n",
       "nro_post                                                0.065507   \n",
       "capac_doc                                              -0.046886   \n",
       "evento                                                  0.026750   \n",
       "cono_compu                                              0.002282   \n",
       "nro_invs                                               -0.153710   \n",
       "Es_Principal                                           -0.260984   \n",
       "Categ__Sin Ocupacion NOUNI                             -0.669966   \n",
       "Categ__Empleado                                         1.000000   \n",
       "Categ__Empleador o patrono                             -0.051935   \n",
       "Categ__Otro                                            -0.009083   \n",
       "Categ__Trabajador independiente o por su cuenta        -0.163672   \n",
       "\n",
       "                                                 Categ__Empleador o patrono  \\\n",
       "Es_Lima                                                            0.036591   \n",
       "sexo                                                              -0.027355   \n",
       "gap_titulacion                                                    -0.003993   \n",
       "gap_postgrado                                                     -0.013769   \n",
       "nro_post                                                           0.001394   \n",
       "capac_doc                                                         -0.015125   \n",
       "evento                                                            -0.015426   \n",
       "cono_compu                                                         0.000707   \n",
       "nro_invs                                                          -0.023009   \n",
       "Es_Principal                                                      -0.021550   \n",
       "Categ__Sin Ocupacion NOUNI                                        -0.182890   \n",
       "Categ__Empleado                                                   -0.051935   \n",
       "Categ__Empleador o patrono                                         1.000000   \n",
       "Categ__Otro                                                       -0.002480   \n",
       "Categ__Trabajador independiente o por su cuenta                   -0.044680   \n",
       "\n",
       "                                                 Categ__Otro  \\\n",
       "Es_Lima                                            -0.006954   \n",
       "sexo                                                0.011693   \n",
       "gap_titulacion                                     -0.000071   \n",
       "gap_postgrado                                       0.008441   \n",
       "nro_post                                            0.020606   \n",
       "capac_doc                                           0.015795   \n",
       "evento                                              0.010301   \n",
       "cono_compu                                          0.002677   \n",
       "nro_invs                                            0.002537   \n",
       "Es_Principal                                        0.005770   \n",
       "Categ__Sin Ocupacion NOUNI                         -0.031986   \n",
       "Categ__Empleado                                    -0.009083   \n",
       "Categ__Empleador o patrono                         -0.002480   \n",
       "Categ__Otro                                         1.000000   \n",
       "Categ__Trabajador independiente o por su cuenta    -0.007814   \n",
       "\n",
       "                                                 Categ__Trabajador independiente o por su cuenta  \n",
       "Es_Lima                                                                                 0.077498  \n",
       "sexo                                                                                   -0.071542  \n",
       "gap_titulacion                                                                          0.039819  \n",
       "gap_postgrado                                                                          -0.089985  \n",
       "nro_post                                                                                0.011379  \n",
       "capac_doc                                                                              -0.006873  \n",
       "evento                                                                                  0.034735  \n",
       "cono_compu                                                                              0.032604  \n",
       "nro_invs                                                                               -0.024762  \n",
       "Es_Principal                                                                           -0.089857  \n",
       "Categ__Sin Ocupacion NOUNI                                                             -0.576376  \n",
       "Categ__Empleado                                                                        -0.163672  \n",
       "Categ__Empleador o patrono                                                             -0.044680  \n",
       "Categ__Otro                                                                            -0.007814  \n",
       "Categ__Trabajador independiente o por su cuenta                                         1.000000  "
      ]
     },
     "execution_count": 174,
     "metadata": {},
     "output_type": "execute_result"
    }
   ],
   "source": [
    "data_final.corr()"
   ]
  }
 ],
 "metadata": {
  "interpreter": {
   "hash": "7dbb69f2fe16ee411a1d001fc5a919d66021ed1f9a71b5ac22cd67380668a935"
  },
  "kernelspec": {
   "display_name": "Python 3.7.1 64-bit",
   "name": "python3"
  },
  "language_info": {
   "codemirror_mode": {
    "name": "ipython",
    "version": 3
   },
   "file_extension": ".py",
   "mimetype": "text/x-python",
   "name": "python",
   "nbconvert_exporter": "python",
   "pygments_lexer": "ipython3",
   "version": "3.8.11"
  },
  "orig_nbformat": 4
 },
 "nbformat": 4,
 "nbformat_minor": 2
}
